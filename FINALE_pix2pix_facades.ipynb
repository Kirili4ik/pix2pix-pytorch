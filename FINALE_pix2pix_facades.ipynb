{
 "cells": [
  {
   "cell_type": "markdown",
   "metadata": {
    "id": "3HOEh0TSyRyr",
    "papermill": {
     "duration": 0.030158,
     "end_time": "2020-12-14T13:49:43.857528",
     "exception": false,
     "start_time": "2020-12-14T13:49:43.827370",
     "status": "completed"
    },
    "tags": []
   },
   "source": [
    "### Imports"
   ]
  },
  {
   "cell_type": "code",
   "execution_count": 1,
   "metadata": {
    "execution": {
     "iopub.execute_input": "2020-12-14T13:49:43.917675Z",
     "iopub.status.busy": "2020-12-14T13:49:43.916940Z",
     "iopub.status.idle": "2020-12-14T13:49:43.919905Z",
     "shell.execute_reply": "2020-12-14T13:49:43.919438Z"
    },
    "id": "MtjrydRGySuO",
    "outputId": "f549ded7-76e1-44bf-8d2a-0d06d0e54870",
    "papermill": {
     "duration": 0.034758,
     "end_time": "2020-12-14T13:49:43.919994",
     "exception": false,
     "start_time": "2020-12-14T13:49:43.885236",
     "status": "completed"
    },
    "tags": []
   },
   "outputs": [],
   "source": [
    "#!wget http://efrosgans.eecs.berkeley.edu/pix2pix/datasets/night2day.tar.gz"
   ]
  },
  {
   "cell_type": "code",
   "execution_count": 2,
   "metadata": {
    "execution": {
     "iopub.execute_input": "2020-12-14T13:49:43.979454Z",
     "iopub.status.busy": "2020-12-14T13:49:43.978823Z",
     "iopub.status.idle": "2020-12-14T13:49:43.981677Z",
     "shell.execute_reply": "2020-12-14T13:49:43.981258Z"
    },
    "id": "5aTn_Z_NyUi1",
    "outputId": "c135c49c-a01f-4eb3-d7a5-31b53466d4cb",
    "papermill": {
     "duration": 0.033961,
     "end_time": "2020-12-14T13:49:43.981763",
     "exception": false,
     "start_time": "2020-12-14T13:49:43.947802",
     "status": "completed"
    },
    "tags": []
   },
   "outputs": [],
   "source": [
    "#!tar xvzf night2day.tar.gz"
   ]
  },
  {
   "cell_type": "code",
   "execution_count": 3,
   "metadata": {
    "execution": {
     "iopub.execute_input": "2020-12-14T13:49:44.042746Z",
     "iopub.status.busy": "2020-12-14T13:49:44.042212Z",
     "iopub.status.idle": "2020-12-14T13:49:45.509064Z",
     "shell.execute_reply": "2020-12-14T13:49:45.509863Z"
    },
    "id": "2paoZsOnyRys",
    "papermill": {
     "duration": 1.500289,
     "end_time": "2020-12-14T13:49:45.510051",
     "exception": false,
     "start_time": "2020-12-14T13:49:44.009762",
     "status": "completed"
    },
    "tags": []
   },
   "outputs": [],
   "source": [
    "import os\n",
    "\n",
    "import torch\n",
    "import torch.nn as nn\n",
    "import torch.nn.functional as F\n",
    "from torch.utils.data import DataLoader\n",
    "\n",
    "import numpy as np\n",
    "import pandas as pd\n",
    "import matplotlib.pyplot as plt\n",
    "\n",
    "import random\n",
    "\n",
    "from PIL import Image\n",
    "\n",
    "import torchvision\n",
    "from torchvision import transforms\n"
   ]
  },
  {
   "cell_type": "code",
   "execution_count": 4,
   "metadata": {
    "execution": {
     "iopub.execute_input": "2020-12-14T13:49:45.654256Z",
     "iopub.status.busy": "2020-12-14T13:49:45.652633Z",
     "iopub.status.idle": "2020-12-14T13:49:45.655107Z",
     "shell.execute_reply": "2020-12-14T13:49:45.653414Z"
    },
    "id": "V1gz2KWByRys",
    "papermill": {
     "duration": 0.058717,
     "end_time": "2020-12-14T13:49:45.655250",
     "exception": false,
     "start_time": "2020-12-14T13:49:45.596533",
     "status": "completed"
    },
    "tags": []
   },
   "outputs": [],
   "source": [
    "BATCH_SIZE = 1\n",
    "NUM_EPOCHS = 200"
   ]
  },
  {
   "cell_type": "markdown",
   "metadata": {
    "id": "k4c55nfhyRys",
    "papermill": {
     "duration": 0.047014,
     "end_time": "2020-12-14T13:49:45.751910",
     "exception": false,
     "start_time": "2020-12-14T13:49:45.704896",
     "status": "completed"
    },
    "tags": []
   },
   "source": [
    "### My-Utils"
   ]
  },
  {
   "cell_type": "code",
   "execution_count": 5,
   "metadata": {
    "execution": {
     "iopub.execute_input": "2020-12-14T13:49:45.895655Z",
     "iopub.status.busy": "2020-12-14T13:49:45.894811Z",
     "iopub.status.idle": "2020-12-14T13:49:45.898480Z",
     "shell.execute_reply": "2020-12-14T13:49:45.899135Z"
    },
    "id": "FDyE-3H_yRys",
    "papermill": {
     "duration": 0.058731,
     "end_time": "2020-12-14T13:49:45.899293",
     "exception": false,
     "start_time": "2020-12-14T13:49:45.840562",
     "status": "completed"
    },
    "tags": []
   },
   "outputs": [],
   "source": [
    "def set_seed(seed):\n",
    "    torch.backends.cudnn.deterministic = True\n",
    "    #torch.backends.cudnn.benchmark = False\n",
    "    torch.manual_seed(seed)\n",
    "    torch.cuda.manual_seed(seed)\n",
    "    random.seed(seed)\n",
    "    np.random.seed(seed)"
   ]
  },
  {
   "cell_type": "code",
   "execution_count": 6,
   "metadata": {
    "execution": {
     "iopub.execute_input": "2020-12-14T13:49:46.354284Z",
     "iopub.status.busy": "2020-12-14T13:49:46.353368Z",
     "iopub.status.idle": "2020-12-14T13:49:46.356931Z",
     "shell.execute_reply": "2020-12-14T13:49:46.357365Z"
    },
    "id": "TDH0zPvJyRys",
    "outputId": "0a046f83-a943-448f-da1c-bca322698d8f",
    "papermill": {
     "duration": 0.411173,
     "end_time": "2020-12-14T13:49:46.357484",
     "exception": false,
     "start_time": "2020-12-14T13:49:45.946311",
     "status": "completed"
    },
    "tags": []
   },
   "outputs": [
    {
     "data": {
      "text/plain": [
       "device(type='cuda')"
      ]
     },
     "execution_count": 6,
     "metadata": {},
     "output_type": "execute_result"
    }
   ],
   "source": [
    "device = torch.device('cuda' if torch.cuda.is_available() else 'cpu')\n",
    "device"
   ]
  },
  {
   "cell_type": "code",
   "execution_count": 7,
   "metadata": {
    "execution": {
     "iopub.execute_input": "2020-12-14T13:49:46.420561Z",
     "iopub.status.busy": "2020-12-14T13:49:46.419838Z",
     "iopub.status.idle": "2020-12-14T13:49:46.422752Z",
     "shell.execute_reply": "2020-12-14T13:49:46.422329Z"
    },
    "id": "ZZ7RjZ7byRys",
    "papermill": {
     "duration": 0.036092,
     "end_time": "2020-12-14T13:49:46.422838",
     "exception": false,
     "start_time": "2020-12-14T13:49:46.386746",
     "status": "completed"
    },
    "tags": []
   },
   "outputs": [],
   "source": [
    "def count_parameters(model):\n",
    "    model_parameters = filter(lambda p: p.requires_grad, model.parameters())\n",
    "    return sum([np.prod(p.size()) for p in model_parameters])"
   ]
  },
  {
   "cell_type": "code",
   "execution_count": 8,
   "metadata": {
    "execution": {
     "iopub.execute_input": "2020-12-14T13:49:46.505496Z",
     "iopub.status.busy": "2020-12-14T13:49:46.504686Z",
     "iopub.status.idle": "2020-12-14T13:49:46.508444Z",
     "shell.execute_reply": "2020-12-14T13:49:46.509088Z"
    },
    "id": "qcdQAuiUyRys",
    "papermill": {
     "duration": 0.057579,
     "end_time": "2020-12-14T13:49:46.509258",
     "exception": false,
     "start_time": "2020-12-14T13:49:46.451679",
     "status": "completed"
    },
    "tags": []
   },
   "outputs": [],
   "source": [
    "def my_imshow(inp, tar):\n",
    "    \"\"\"Imshow for Tensor.\"\"\"\n",
    "    inp = transforms.ToPILImage()(inp)\n",
    "    tar = transforms.ToPILImage()(tar)    \n",
    "    \n",
    "    f, axarr = plt.subplots(1, 2) \n",
    "    f.set_figheight(5)\n",
    "    f.set_figwidth(10)\n",
    "    \n",
    "    axarr[0].imshow(inp)\n",
    "    axarr[1].imshow(tar)\n",
    "\n",
    "    \n",
    "    plt.show()\n",
    "    plt.pause(0.1)"
   ]
  },
  {
   "cell_type": "code",
   "execution_count": 9,
   "metadata": {
    "execution": {
     "iopub.execute_input": "2020-12-14T13:49:46.580357Z",
     "iopub.status.busy": "2020-12-14T13:49:46.579537Z",
     "iopub.status.idle": "2020-12-14T13:49:46.581711Z",
     "shell.execute_reply": "2020-12-14T13:49:46.582156Z"
    },
    "papermill": {
     "duration": 0.036132,
     "end_time": "2020-12-14T13:49:46.582256",
     "exception": false,
     "start_time": "2020-12-14T13:49:46.546124",
     "status": "completed"
    },
    "tags": []
   },
   "outputs": [],
   "source": [
    "def count_psnr(fake, real):\n",
    "    mse_loss = F.mse_loss(fake*0.5 + 0.5, real, reduction='none')\n",
    "    return torch.mean(10 * torch.log10(1 / mse_loss)).item()"
   ]
  },
  {
   "cell_type": "code",
   "execution_count": 10,
   "metadata": {
    "execution": {
     "iopub.execute_input": "2020-12-14T13:49:46.648939Z",
     "iopub.status.busy": "2020-12-14T13:49:46.647177Z",
     "iopub.status.idle": "2020-12-14T13:49:46.649493Z",
     "shell.execute_reply": "2020-12-14T13:49:46.649921Z"
    },
    "papermill": {
     "duration": 0.038941,
     "end_time": "2020-12-14T13:49:46.650015",
     "exception": false,
     "start_time": "2020-12-14T13:49:46.611074",
     "status": "completed"
    },
    "tags": []
   },
   "outputs": [],
   "source": [
    "def count_cov(x, y):\n",
    "    x -= torch.mean(x, dim=1, keepdim=True)\n",
    "    y -= torch.mean(y, dim=1, keepdim=True)\n",
    "        \n",
    "    return x * y"
   ]
  },
  {
   "cell_type": "code",
   "execution_count": 11,
   "metadata": {
    "execution": {
     "iopub.execute_input": "2020-12-14T13:49:46.724559Z",
     "iopub.status.busy": "2020-12-14T13:49:46.722853Z",
     "iopub.status.idle": "2020-12-14T13:49:46.725150Z",
     "shell.execute_reply": "2020-12-14T13:49:46.725558Z"
    },
    "papermill": {
     "duration": 0.043332,
     "end_time": "2020-12-14T13:49:46.725661",
     "exception": false,
     "start_time": "2020-12-14T13:49:46.682329",
     "status": "completed"
    },
    "tags": []
   },
   "outputs": [],
   "source": [
    "# based on wiki formula\n",
    "def count_ssim(x, y):\n",
    "    mu_x = torch.mean(x, dim=[2,3]).squeeze()\n",
    "    mu_y = torch.mean(y, dim=[2,3]).squeeze()\n",
    "    \n",
    "    sig_x = torch.var(x, dim=[2,3]).squeeze()\n",
    "    sig_y = torch.var(y, dim=[2,3]).squeeze()\n",
    "    \n",
    "    sig_xy = torch.mean(count_cov(x.reshape(3, -1), y.reshape(3, -1)), 1)\n",
    "    \n",
    "    c1 = 0.01 ** 2\n",
    "    c2 = 0.03 ** 2\n",
    "        \n",
    "    ssim = ((2 * mu_x * mu_y + c1) * (2 * sig_xy + c2)) / ((mu_x**2 + mu_y**2 + c1) * (sig_x + sig_y + c2))\n",
    "    \n",
    "    return torch.mean(ssim)"
   ]
  },
  {
   "cell_type": "markdown",
   "metadata": {
    "id": "j-ZgTpbFyRys",
    "papermill": {
     "duration": 0.030562,
     "end_time": "2020-12-14T13:49:46.853208",
     "exception": false,
     "start_time": "2020-12-14T13:49:46.822646",
     "status": "completed"
    },
    "tags": []
   },
   "source": [
    "### Data"
   ]
  },
  {
   "cell_type": "code",
   "execution_count": 12,
   "metadata": {
    "execution": {
     "iopub.execute_input": "2020-12-14T13:49:46.919050Z",
     "iopub.status.busy": "2020-12-14T13:49:46.918488Z",
     "iopub.status.idle": "2020-12-14T13:49:46.924775Z",
     "shell.execute_reply": "2020-12-14T13:49:46.924249Z"
    },
    "id": "VcEan9FC9ljx",
    "papermill": {
     "duration": 0.039723,
     "end_time": "2020-12-14T13:49:46.924860",
     "exception": false,
     "start_time": "2020-12-14T13:49:46.885137",
     "status": "completed"
    },
    "tags": []
   },
   "outputs": [],
   "source": [
    "set_seed(21)"
   ]
  },
  {
   "cell_type": "code",
   "execution_count": 13,
   "metadata": {
    "execution": {
     "iopub.execute_input": "2020-12-14T13:49:46.994502Z",
     "iopub.status.busy": "2020-12-14T13:49:46.992901Z",
     "iopub.status.idle": "2020-12-14T13:49:46.995182Z",
     "shell.execute_reply": "2020-12-14T13:49:46.995600Z"
    },
    "id": "yZRnkZ_oyRys",
    "papermill": {
     "duration": 0.041484,
     "end_time": "2020-12-14T13:49:46.995696",
     "exception": false,
     "start_time": "2020-12-14T13:49:46.954212",
     "status": "completed"
    },
    "tags": []
   },
   "outputs": [],
   "source": [
    "class MyDataset(torch.utils.data.Dataset):\n",
    "    \"\"\"Custom dataset.\"\"\"\n",
    "\n",
    "    def __init__(self, root_dir, transform=None):\n",
    "        \"\"\"\n",
    "        Args:\n",
    "            root_dir (string): Directory with train/val/test the images.\n",
    "            transform (callable, optional): Optional transform to be applied on a sample.\n",
    "        \"\"\"\n",
    "        self.root_dir = root_dir\n",
    "        self.transform = transform\n",
    "\n",
    "        \n",
    "    def __len__(self):\n",
    "        return len(os.listdir(path=self.root_dir))\n",
    "\n",
    "    \n",
    "    def __getitem__(self, idx):\n",
    "        \n",
    "        img_name = os.path.join(self.root_dir, str(idx+1)+'.jpg')\n",
    "        image = Image.open(img_name)     \n",
    "            \n",
    "        image = torchvision.transforms.functional.to_tensor(image)\n",
    "\n",
    "        width = int(image.size(-1) / 2)\n",
    "        image, target = image[:, :, width:], image[:, :, :width]  \n",
    "\n",
    "        if self.transform:\n",
    "            image, target = self.transform(image, target)\n",
    "\n",
    "        sample = {'x': image, 'target': target}\n",
    "        \n",
    "        \n",
    "        return sample"
   ]
  },
  {
   "cell_type": "code",
   "execution_count": 14,
   "metadata": {
    "execution": {
     "iopub.execute_input": "2020-12-14T13:49:47.064295Z",
     "iopub.status.busy": "2020-12-14T13:49:47.063461Z",
     "iopub.status.idle": "2020-12-14T13:49:47.065984Z",
     "shell.execute_reply": "2020-12-14T13:49:47.065590Z"
    },
    "id": "wSQBluf1yRys",
    "papermill": {
     "duration": 0.041128,
     "end_time": "2020-12-14T13:49:47.066065",
     "exception": false,
     "start_time": "2020-12-14T13:49:47.024937",
     "status": "completed"
    },
    "tags": []
   },
   "outputs": [],
   "source": [
    "def my_transforms_tr(sample, target):\n",
    "    sample = transforms.Normalize((0.5, 0.5, 0.5), (0.5, 0.5, 0.5))(sample)\n",
    "    target = transforms.Normalize((0.5, 0.5, 0.5), (0.5, 0.5, 0.5))(target)\n",
    "\n",
    "    x = random.randint(0, 286 - 256)\n",
    "    y = random.randint(0, 286 - 256)\n",
    "    flip = random.random() > 0.5\n",
    "\n",
    "    sample = transforms.Resize([286, 286], Image.BICUBIC)(sample)\n",
    "    target = transforms.Resize([286, 286], Image.BICUBIC)(target)\n",
    "    \n",
    "    #sample = transforms.RandomCrop(256)(sample)\n",
    "    sample = sample[:, x:256 + x, y:256 + y]\n",
    "    target = target[:, x:256 + x, y:256 + y]\n",
    "    \n",
    "    if flip:\n",
    "        actual_flip = transforms.RandomHorizontalFlip()\n",
    "        sample = actual_flip(sample)\n",
    "        target = actual_flip(target)\n",
    "    \n",
    "    return sample, target"
   ]
  },
  {
   "cell_type": "code",
   "execution_count": 15,
   "metadata": {
    "execution": {
     "iopub.execute_input": "2020-12-14T13:49:47.129852Z",
     "iopub.status.busy": "2020-12-14T13:49:47.129179Z",
     "iopub.status.idle": "2020-12-14T13:49:47.131644Z",
     "shell.execute_reply": "2020-12-14T13:49:47.132050Z"
    },
    "id": "i2AjEhXH9RKU",
    "papermill": {
     "duration": 0.036882,
     "end_time": "2020-12-14T13:49:47.132141",
     "exception": false,
     "start_time": "2020-12-14T13:49:47.095259",
     "status": "completed"
    },
    "tags": []
   },
   "outputs": [],
   "source": [
    "def my_transforms_val(sample, target):\n",
    "    sample = transforms.Normalize((0.5, 0.5, 0.5), (0.5, 0.5, 0.5))(sample)\n",
    "    target = transforms.Normalize((0.5, 0.5, 0.5), (0.5, 0.5, 0.5))(target)\n",
    "    \n",
    "    return sample, target  "
   ]
  },
  {
   "cell_type": "code",
   "execution_count": 16,
   "metadata": {
    "execution": {
     "iopub.execute_input": "2020-12-14T13:49:47.195973Z",
     "iopub.status.busy": "2020-12-14T13:49:47.195278Z",
     "iopub.status.idle": "2020-12-14T13:49:47.198034Z",
     "shell.execute_reply": "2020-12-14T13:49:47.197636Z"
    },
    "id": "WTfaTvUhyRys",
    "papermill": {
     "duration": 0.036237,
     "end_time": "2020-12-14T13:49:47.198126",
     "exception": false,
     "start_time": "2020-12-14T13:49:47.161889",
     "status": "completed"
    },
    "tags": []
   },
   "outputs": [],
   "source": [
    "train_set = MyDataset(root_dir='facades/facades/train/', transform=my_transforms_tr)\n",
    "val_set   = MyDataset(root_dir='facades/facades/val/', transform=my_transforms_val)\n",
    "test_set  = MyDataset(root_dir='facades/facades/test/', transform=my_transforms_val)"
   ]
  },
  {
   "cell_type": "code",
   "execution_count": 17,
   "metadata": {
    "execution": {
     "iopub.execute_input": "2020-12-14T13:49:47.263227Z",
     "iopub.status.busy": "2020-12-14T13:49:47.262564Z",
     "iopub.status.idle": "2020-12-14T13:49:47.315809Z",
     "shell.execute_reply": "2020-12-14T13:49:47.314547Z"
    },
    "id": "or_wGFcDyRys",
    "papermill": {
     "duration": 0.087673,
     "end_time": "2020-12-14T13:49:47.315901",
     "exception": false,
     "start_time": "2020-12-14T13:49:47.228228",
     "status": "completed"
    },
    "tags": []
   },
   "outputs": [],
   "source": [
    "train_loader = DataLoader(train_set, batch_size=BATCH_SIZE, \n",
    "                          shuffle=True,\n",
    "                          num_workers=2, pin_memory=True)\n",
    "\n",
    "val_loader = DataLoader(val_set, batch_size=BATCH_SIZE, \n",
    "                        shuffle=False,\n",
    "                        num_workers=1, pin_memory=True)\n",
    "\n",
    "test_loader = DataLoader(test_set, batch_size=1, \n",
    "                        shuffle=False,\n",
    "                        num_workers=1, pin_memory=True)"
   ]
  },
  {
   "cell_type": "code",
   "execution_count": 18,
   "metadata": {
    "execution": {
     "iopub.execute_input": "2020-12-14T13:49:47.381220Z",
     "iopub.status.busy": "2020-12-14T13:49:47.380329Z",
     "iopub.status.idle": "2020-12-14T13:49:47.383756Z",
     "shell.execute_reply": "2020-12-14T13:49:47.384177Z"
    },
    "id": "xsABaLbyyRys",
    "outputId": "98dcbae3-1f55-4beb-93ec-305e059feead",
    "papermill": {
     "duration": 0.038202,
     "end_time": "2020-12-14T13:49:47.384272",
     "exception": false,
     "start_time": "2020-12-14T13:49:47.346070",
     "status": "completed"
    },
    "tags": []
   },
   "outputs": [
    {
     "data": {
      "text/plain": [
       "\"for batch in train_loader:\\n    sample, sample_target = batch['x'][0], batch['target'][0]\\n    my_imshow(sample*0.5 + 0.5, sample_target*0.5 + 0.5)\\n    \\n    print()\""
      ]
     },
     "execution_count": 18,
     "metadata": {},
     "output_type": "execute_result"
    }
   ],
   "source": [
    "# test loader\n",
    "'''for batch in train_loader:\n",
    "    sample, sample_target = batch['x'][0], batch['target'][0]\n",
    "    my_imshow(sample*0.5 + 0.5, sample_target*0.5 + 0.5)\n",
    "    \n",
    "    print()'''"
   ]
  },
  {
   "cell_type": "markdown",
   "metadata": {
    "id": "YRZZxhXUyRys",
    "papermill": {
     "duration": 0.030257,
     "end_time": "2020-12-14T13:49:47.444911",
     "exception": false,
     "start_time": "2020-12-14T13:49:47.414654",
     "status": "completed"
    },
    "tags": []
   },
   "source": [
    "### Architecture"
   ]
  },
  {
   "cell_type": "code",
   "execution_count": 19,
   "metadata": {
    "execution": {
     "iopub.execute_input": "2020-12-14T13:49:47.520585Z",
     "iopub.status.busy": "2020-12-14T13:49:47.519735Z",
     "iopub.status.idle": "2020-12-14T13:49:47.522213Z",
     "shell.execute_reply": "2020-12-14T13:49:47.522616Z"
    },
    "id": "umk5BV8TyRys",
    "papermill": {
     "duration": 0.046431,
     "end_time": "2020-12-14T13:49:47.522717",
     "exception": false,
     "start_time": "2020-12-14T13:49:47.476286",
     "status": "completed"
    },
    "tags": []
   },
   "outputs": [],
   "source": [
    "def conv_bn_act(in_size, out_size, kernel_size=4, stride=2, dilation=1, padding=None, bias=False,\n",
    "                is_bn=True, p_drop=None, act=None, is_up=False):\n",
    "    \n",
    "    padding=int((kernel_size - 1)/2)\n",
    "    \n",
    "    return nn.Sequential(\n",
    "        nn.Conv2d(in_size, out_size, kernel_size, stride=stride, padding=padding, bias=bias) \\\n",
    "            if not is_up else \\\n",
    "            nn.ConvTranspose2d(in_size, out_size, kernel_size, stride=stride, padding=padding, bias=bias),\n",
    "        nn.BatchNorm2d(out_size, eps=1e-05, momentum=0.1, affine=True) if is_bn else nn.Identity(),\n",
    "        nn.Dropout(p_drop) if p_drop is not None else nn.Identity(),\n",
    "        act if act is not None else nn.Identity()\n",
    "    )"
   ]
  },
  {
   "cell_type": "code",
   "execution_count": 1,
   "metadata": {
    "execution": {
     "iopub.execute_input": "2020-12-14T13:49:47.602793Z",
     "iopub.status.busy": "2020-12-14T13:49:47.598709Z",
     "iopub.status.idle": "2020-12-14T13:49:47.605055Z",
     "shell.execute_reply": "2020-12-14T13:49:47.605440Z"
    },
    "id": "bRHzko6YyRys",
    "papermill": {
     "duration": 0.050337,
     "end_time": "2020-12-14T13:49:47.605555",
     "exception": false,
     "start_time": "2020-12-14T13:49:47.555218",
     "status": "completed"
    },
    "tags": []
   },
   "outputs": [
    {
     "ename": "NameError",
     "evalue": "name 'nn' is not defined",
     "output_type": "error",
     "traceback": [
      "\u001b[0;31m---------------------------------------------------------------------------\u001b[0m",
      "\u001b[0;31mNameError\u001b[0m                                 Traceback (most recent call last)",
      "\u001b[0;32m<ipython-input-1-970e13fd2198>\u001b[0m in \u001b[0;36m<module>\u001b[0;34m\u001b[0m\n\u001b[0;32m----> 1\u001b[0;31m \u001b[0;32mclass\u001b[0m \u001b[0mUNet\u001b[0m\u001b[0;34m(\u001b[0m\u001b[0mnn\u001b[0m\u001b[0;34m.\u001b[0m\u001b[0mModule\u001b[0m\u001b[0;34m)\u001b[0m\u001b[0;34m:\u001b[0m\u001b[0;34m\u001b[0m\u001b[0;34m\u001b[0m\u001b[0m\n\u001b[0m\u001b[1;32m      2\u001b[0m     \u001b[0;32mdef\u001b[0m \u001b[0m__init__\u001b[0m\u001b[0;34m(\u001b[0m\u001b[0mself\u001b[0m\u001b[0;34m,\u001b[0m \u001b[0min_size\u001b[0m\u001b[0;34m=\u001b[0m\u001b[0;36m64\u001b[0m\u001b[0;34m)\u001b[0m\u001b[0;34m:\u001b[0m\u001b[0;34m\u001b[0m\u001b[0;34m\u001b[0m\u001b[0m\n\u001b[1;32m      3\u001b[0m         \u001b[0msuper\u001b[0m\u001b[0;34m(\u001b[0m\u001b[0mUNet\u001b[0m\u001b[0;34m,\u001b[0m \u001b[0mself\u001b[0m\u001b[0;34m)\u001b[0m\u001b[0;34m.\u001b[0m\u001b[0m__init__\u001b[0m\u001b[0;34m(\u001b[0m\u001b[0;34m)\u001b[0m\u001b[0;34m\u001b[0m\u001b[0;34m\u001b[0m\u001b[0m\n\u001b[1;32m      4\u001b[0m \u001b[0;34m\u001b[0m\u001b[0m\n\u001b[1;32m      5\u001b[0m         \u001b[0menc_act\u001b[0m\u001b[0;34m,\u001b[0m \u001b[0mdec_act\u001b[0m \u001b[0;34m=\u001b[0m \u001b[0mnn\u001b[0m\u001b[0;34m.\u001b[0m\u001b[0mLeakyReLU\u001b[0m\u001b[0;34m(\u001b[0m\u001b[0;36m0.2\u001b[0m\u001b[0;34m)\u001b[0m\u001b[0;34m,\u001b[0m \u001b[0mnn\u001b[0m\u001b[0;34m.\u001b[0m\u001b[0mReLU\u001b[0m\u001b[0;34m(\u001b[0m\u001b[0;34m)\u001b[0m\u001b[0;34m\u001b[0m\u001b[0;34m\u001b[0m\u001b[0m\n",
      "\u001b[0;31mNameError\u001b[0m: name 'nn' is not defined"
     ]
    }
   ],
   "source": [
    "class UNet(nn.Module):\n",
    "    def __init__(self, in_size=64):\n",
    "        super(UNet, self).__init__()\n",
    "\n",
    "        enc_act, dec_act = nn.LeakyReLU(0.2), nn.ReLU()\n",
    "        self.encoder = nn.ModuleList([conv_bn_act(3,         in_size, is_bn=False, act=enc_act),\n",
    "                                      conv_bn_act(in_size,   in_size*2, act=enc_act),\n",
    "                                      conv_bn_act(in_size*2, in_size*4, act=enc_act),\n",
    "                                      conv_bn_act(in_size*4, in_size*8, act=enc_act)\n",
    "                                     ] +\n",
    "                                     [conv_bn_act(in_size*8, in_size*8, act=enc_act)\n",
    "                                      for i in range(3)] +\n",
    "                                     [conv_bn_act(in_size*8, in_size*8, is_bn=False, act=enc_act)])\n",
    "        \n",
    "        self.first_dec_layer = conv_bn_act(in_size*8, in_size*8, p_drop=0.5, act=dec_act, is_up=True)\n",
    "        \n",
    "        self.decoder = nn.ModuleList([conv_bn_act(in_size*16, in_size*8, p_drop=0.5, act=dec_act, is_up=True)\n",
    "                                      for i in range(3)] +\n",
    "                                     [conv_bn_act(in_size*16, in_size*4, act=dec_act, is_up=True),\n",
    "                                      conv_bn_act(in_size*8,  in_size*2, act=dec_act, is_up=True),\n",
    "                                      conv_bn_act(in_size*4,  in_size,   act=dec_act, is_up=True),\n",
    "                                      conv_bn_act(in_size*2,  3, bias=True, is_bn=False, act=nn.Tanh(), is_up=True)])\n",
    "        \n",
    "    \n",
    "    def forward(self, x):\n",
    "        N = len(self.encoder) - 1\n",
    "        \n",
    "        enc_outputs = []\n",
    "        for layer in self.encoder:\n",
    "            enc_outputs.append(x)\n",
    "            x = layer(x)\n",
    "\n",
    "        x = self.first_dec_layer(x)\n",
    "        \n",
    "        for i, layer in enumerate(self.decoder):\n",
    "            x_concat = torch.cat([x, enc_outputs[N-i]], dim=1)\n",
    "            x = layer(x_concat)\n",
    "        return x"
   ]
  },
  {
   "cell_type": "code",
   "execution_count": 21,
   "metadata": {
    "execution": {
     "iopub.execute_input": "2020-12-14T13:49:47.685653Z",
     "iopub.status.busy": "2020-12-14T13:49:47.672730Z",
     "iopub.status.idle": "2020-12-14T13:50:00.924158Z",
     "shell.execute_reply": "2020-12-14T13:50:00.923292Z"
    },
    "id": "JsU7TMAiyRys",
    "outputId": "b4dc94c3-f6e9-4984-8014-7a07d34085b6",
    "papermill": {
     "duration": 13.28781,
     "end_time": "2020-12-14T13:50:00.924260",
     "exception": false,
     "start_time": "2020-12-14T13:49:47.636450",
     "status": "completed"
    },
    "tags": []
   },
   "outputs": [
    {
     "name": "stdout",
     "output_type": "stream",
     "text": [
      "Requirement already satisfied: wandb in /opt/conda/lib/python3.7/site-packages (0.10.12)\r\n",
      "Requirement already satisfied: subprocess32>=3.5.3 in /opt/conda/lib/python3.7/site-packages (from wandb) (3.5.4)\r\n",
      "Requirement already satisfied: requests<3,>=2.0.0 in /opt/conda/lib/python3.7/site-packages (from wandb) (2.23.0)\r\n",
      "Requirement already satisfied: shortuuid>=0.5.0 in /opt/conda/lib/python3.7/site-packages (from wandb) (1.0.1)\r\n",
      "Requirement already satisfied: docker-pycreds>=0.4.0 in /opt/conda/lib/python3.7/site-packages (from wandb) (0.4.0)\r\n",
      "Requirement already satisfied: protobuf>=3.12.0 in /opt/conda/lib/python3.7/site-packages (from wandb) (3.14.0)\r\n",
      "Requirement already satisfied: PyYAML in /opt/conda/lib/python3.7/site-packages (from wandb) (5.3.1)\r\n",
      "Requirement already satisfied: watchdog>=0.8.3 in /opt/conda/lib/python3.7/site-packages (from wandb) (0.10.2)\r\n",
      "Requirement already satisfied: GitPython>=1.0.0 in /opt/conda/lib/python3.7/site-packages (from wandb) (3.1.1)\r\n",
      "Requirement already satisfied: python-dateutil>=2.6.1 in /opt/conda/lib/python3.7/site-packages (from wandb) (2.8.1)\r\n",
      "Requirement already satisfied: psutil>=5.0.0 in /opt/conda/lib/python3.7/site-packages (from wandb) (5.7.0)\r\n",
      "Requirement already satisfied: configparser>=3.8.1 in /opt/conda/lib/python3.7/site-packages (from wandb) (5.0.1)\r\n",
      "Requirement already satisfied: promise<3,>=2.0 in /opt/conda/lib/python3.7/site-packages (from wandb) (2.3)\r\n",
      "Requirement already satisfied: six>=1.13.0 in /opt/conda/lib/python3.7/site-packages (from wandb) (1.14.0)\r\n",
      "Requirement already satisfied: Click>=7.0 in /opt/conda/lib/python3.7/site-packages (from wandb) (7.1.1)\r\n",
      "Requirement already satisfied: sentry-sdk>=0.4.0 in /opt/conda/lib/python3.7/site-packages (from wandb) (0.19.4)\r\n",
      "Requirement already satisfied: six>=1.13.0 in /opt/conda/lib/python3.7/site-packages (from wandb) (1.14.0)\r\n",
      "Requirement already satisfied: gitdb<5,>=4.0.1 in /opt/conda/lib/python3.7/site-packages (from GitPython>=1.0.0->wandb) (4.0.4)\r\n",
      "Requirement already satisfied: smmap<4,>=3.0.1 in /opt/conda/lib/python3.7/site-packages (from gitdb<5,>=4.0.1->GitPython>=1.0.0->wandb) (3.0.2)\r\n",
      "Requirement already satisfied: six>=1.13.0 in /opt/conda/lib/python3.7/site-packages (from wandb) (1.14.0)\r\n",
      "Requirement already satisfied: six>=1.13.0 in /opt/conda/lib/python3.7/site-packages (from wandb) (1.14.0)\r\n",
      "Requirement already satisfied: six>=1.13.0 in /opt/conda/lib/python3.7/site-packages (from wandb) (1.14.0)\r\n",
      "Requirement already satisfied: chardet<4,>=3.0.2 in /opt/conda/lib/python3.7/site-packages (from requests<3,>=2.0.0->wandb) (3.0.4)\r\n",
      "Requirement already satisfied: urllib3!=1.25.0,!=1.25.1,<1.26,>=1.21.1 in /opt/conda/lib/python3.7/site-packages (from requests<3,>=2.0.0->wandb) (1.25.9)\r\n",
      "Requirement already satisfied: certifi>=2017.4.17 in /opt/conda/lib/python3.7/site-packages (from requests<3,>=2.0.0->wandb) (2020.12.5)\r\n",
      "Requirement already satisfied: idna<3,>=2.5 in /opt/conda/lib/python3.7/site-packages (from requests<3,>=2.0.0->wandb) (2.9)\r\n",
      "Requirement already satisfied: urllib3!=1.25.0,!=1.25.1,<1.26,>=1.21.1 in /opt/conda/lib/python3.7/site-packages (from requests<3,>=2.0.0->wandb) (1.25.9)\r\n",
      "Requirement already satisfied: certifi>=2017.4.17 in /opt/conda/lib/python3.7/site-packages (from requests<3,>=2.0.0->wandb) (2020.12.5)\r\n",
      "Requirement already satisfied: pathtools>=0.1.1 in /opt/conda/lib/python3.7/site-packages (from watchdog>=0.8.3->wandb) (0.1.2)\r\n",
      "\u001b[34m\u001b[1mwandb\u001b[0m: Appending key for api.wandb.ai to your netrc file: /root/.netrc\r\n"
     ]
    },
    {
     "name": "stderr",
     "output_type": "stream",
     "text": [
      "\u001b[34m\u001b[1mwandb\u001b[0m: Currently logged in as: \u001b[33mkirili4ik\u001b[0m (use `wandb login --relogin` to force relogin)\n"
     ]
    },
    {
     "data": {
      "text/html": [
       "\n",
       "                Tracking run with wandb version 0.10.12<br/>\n",
       "                Syncing run <strong style=\"color:#cdcd00\">giddy-frost-98</strong> to <a href=\"https://wandb.ai\" target=\"_blank\">Weights & Biases</a> <a href=\"https://docs.wandb.com/integrations/jupyter.html\" target=\"_blank\">(Documentation)</a>.<br/>\n",
       "                Project page: <a href=\"https://wandb.ai/kirili4ik/dl-ht3\" target=\"_blank\">https://wandb.ai/kirili4ik/dl-ht3</a><br/>\n",
       "                Run page: <a href=\"https://wandb.ai/kirili4ik/dl-ht3/runs/byozxxvk\" target=\"_blank\">https://wandb.ai/kirili4ik/dl-ht3/runs/byozxxvk</a><br/>\n",
       "                Run data is saved locally in <code>/kaggle/working/wandb/run-20201214_134959-byozxxvk</code><br/><br/>\n",
       "            "
      ],
      "text/plain": [
       "<IPython.core.display.HTML object>"
      ]
     },
     "metadata": {},
     "output_type": "display_data"
    },
    {
     "name": "stdout",
     "output_type": "stream",
     "text": [
      "1\n"
     ]
    }
   ],
   "source": [
    "!pip install wandb\n",
    "\n",
    "import wandb\n",
    "\n",
    "!wandb login 6aa2251ef1ea5e572e6a7608c0152db29bd9a294\n",
    "\n",
    "wandb.init(project='dl-ht3')\n",
    "print(1)"
   ]
  },
  {
   "cell_type": "code",
   "execution_count": 24,
   "metadata": {
    "execution": {
     "iopub.execute_input": "2020-12-14T13:50:01.196032Z",
     "iopub.status.busy": "2020-12-14T13:50:01.184086Z",
     "iopub.status.idle": "2020-12-14T13:50:01.204466Z",
     "shell.execute_reply": "2020-12-14T13:50:01.204066Z"
    },
    "id": "mrgohAXj9lj5",
    "papermill": {
     "duration": 0.072469,
     "end_time": "2020-12-14T13:50:01.204597",
     "exception": false,
     "start_time": "2020-12-14T13:50:01.132128",
     "status": "completed"
    },
    "tags": []
   },
   "outputs": [],
   "source": [
    "# real_x,y ; fake_x,y . Making x->y model\n",
    "class Pix2Pix(nn.Module):\n",
    "    def __init__(self, in_size=64):\n",
    "        super(Pix2Pix, self).__init__()\n",
    "\n",
    "        self.netG = UNet(in_size)\n",
    "        self.netD = nn.Sequential(conv_bn_act(6, in_size, is_bn=False, bias=True, act=nn.LeakyReLU(0.2)),\n",
    "                                  conv_bn_act(in_size, in_size*2, act=nn.LeakyReLU(0.2)),\n",
    "                                  conv_bn_act(in_size*2, in_size*4, act=nn.LeakyReLU(0.2)),\n",
    "                                  conv_bn_act(in_size*4, in_size*8, stride=1, act=nn.LeakyReLU(0.2)), \n",
    "                                  conv_bn_act(in_size*8, 1, stride=1, bias=True, is_bn=False)     # no sigmoid cause of BCEwithlogits #act=nn.Sigmoid())]\n",
    "                                 )\n",
    "        self.cgan_loss = nn.BCEWithLogitsLoss()\n",
    "        self.l1_loss  = nn.L1Loss()\n",
    "\n",
    "\n",
    "\n",
    "    def generate(self, real_x):\n",
    "        fake_y = self.netG(real_x)   # G(x)\n",
    "        return fake_y\n",
    "\n",
    "\n",
    "    def my_backward(self, real_x, real_y, optimizer_D, optimizer_G, lambda_par=100):\n",
    "        fake_y = self.generate(real_x)\n",
    "\n",
    "        # enable backprop for D if disabled\n",
    "        for param in self.netD.parameters():\n",
    "            param.requires_grad = True\n",
    "        optimizer_D.zero_grad()\n",
    "\n",
    "        ### DICRIMINATOR BACKWARD\n",
    "        # real-fake\n",
    "        real_fake = torch.cat((real_x, fake_y), 1)\n",
    "        prediction_D = self.netD(real_fake.detach())     # detach for G backward NOT to be used\n",
    "        prediction_D = prediction_D.view(prediction_D.size(0), -1)\n",
    "        loss_D_fake = self.cgan_loss(prediction_D, torch.zeros_like(prediction_D))\n",
    "\n",
    "        # real-real\n",
    "        real_real = torch.cat((real_x, real_y), 1)\n",
    "        prediction_D = self.netD(real_real)\n",
    "        prediction_D = prediction_D.view(prediction_D.size(0), -1)\n",
    "        loss_D_real = self.cgan_loss(prediction_D, torch.ones_like(prediction_D))\n",
    "\n",
    "        loss_D = (loss_D_fake + loss_D_real) / 2\n",
    "        loss_D.backward()\n",
    "        optimizer_D.step()\n",
    "\n",
    "\n",
    "        # disable backprop for D for saving Time and Resourses\n",
    "        for param in self.netD.parameters():\n",
    "            param.requires_grad = False\n",
    "\n",
    "        ### GENERATOR BACKWARD\n",
    "        optimizer_G.zero_grad()\n",
    "\n",
    "        prediction_D = self.netD(real_fake)               # don't use detach for G backward TO be used\n",
    "        prediction_D = prediction_D.view(prediction_D.size(0), -1)\n",
    "        loss_cgan = self.cgan_loss(prediction_D, torch.ones_like(prediction_D))\n",
    "\n",
    "        loss_L1 = self.l1_loss(fake_y, real_y) * lambda_par\n",
    "        loss_G = loss_cgan + loss_L1\n",
    "        loss_G.backward()\n",
    "        optimizer_G.step()\n",
    "        \n",
    "        ssim = count_ssim(fake_y.detach(), real_y.detach())\n",
    "        \n",
    "        return loss_D.item(), loss_G.item(), ssim\n",
    "\n",
    "\n",
    "\n",
    "    def validation(self, real_x, real_y, lambda_par):\n",
    "        fake_y = self.generate(real_x)\n",
    "\n",
    "        ### DICRIMINATOR BACKWARD\n",
    "        # real-fake\n",
    "        real_fake = torch.cat((real_x, fake_y), 1)\n",
    "        prediction_D = self.netD(real_fake.detach())\n",
    "        prediction_D = prediction_D.view(prediction_D.size(0), -1)\n",
    "        loss_D_fake = self.cgan_loss(prediction_D, torch.zeros_like(prediction_D))\n",
    "\n",
    "        # real-real\n",
    "        real_real = torch.cat((real_x, real_y), 1)\n",
    "        prediction_D = self.netD(real_real)\n",
    "        prediction_D = prediction_D.view(prediction_D.size(0), -1)\n",
    "        loss_D_real = self.cgan_loss(prediction_D, torch.ones_like(prediction_D))\n",
    "\n",
    "        loss_D = (loss_D_fake + loss_D_real) / 2\n",
    "\n",
    "\n",
    "        ### GENERATOR BACKWARD\n",
    "        prediction_D = self.netD(real_fake)\n",
    "        prediction_D = prediction_D.view(prediction_D.size(0), -1)\n",
    "        loss_cgan = self.cgan_loss(prediction_D, torch.ones_like(prediction_D))\n",
    "        loss_L1 = self.l1_loss(fake_y, real_y) * lambda_par\n",
    "        loss_G = loss_cgan + loss_L1\n",
    "        \n",
    "        ssim = count_ssim(fake_y.detach(), real_y.detach())\n",
    "        \n",
    "        return loss_D.item(), loss_G.item(), ssim"
   ]
  },
  {
   "cell_type": "code",
   "execution_count": 25,
   "metadata": {
    "execution": {
     "iopub.execute_input": "2020-12-14T13:50:01.283990Z",
     "iopub.status.busy": "2020-12-14T13:50:01.283268Z",
     "iopub.status.idle": "2020-12-14T13:50:06.024654Z",
     "shell.execute_reply": "2020-12-14T13:50:06.023708Z"
    },
    "id": "KZO7DDKd9lj6",
    "papermill": {
     "duration": 4.785697,
     "end_time": "2020-12-14T13:50:06.024774",
     "exception": false,
     "start_time": "2020-12-14T13:50:01.239077",
     "status": "completed"
    },
    "tags": []
   },
   "outputs": [],
   "source": [
    "model = Pix2Pix()\n",
    "model = model.to(device)"
   ]
  },
  {
   "cell_type": "code",
   "execution_count": 26,
   "metadata": {
    "execution": {
     "iopub.execute_input": "2020-12-14T13:50:06.109575Z",
     "iopub.status.busy": "2020-12-14T13:50:06.108293Z",
     "iopub.status.idle": "2020-12-14T13:50:06.112140Z",
     "shell.execute_reply": "2020-12-14T13:50:06.112728Z"
    },
    "id": "VxD4pnCB9lj6",
    "outputId": "43f7d6bd-3ff7-4368-c61e-312da35857df",
    "papermill": {
     "duration": 0.04824,
     "end_time": "2020-12-14T13:50:06.112865",
     "exception": false,
     "start_time": "2020-12-14T13:50:06.064625",
     "status": "completed"
    },
    "tags": []
   },
   "outputs": [
    {
     "data": {
      "text/plain": [
       "57182660"
      ]
     },
     "execution_count": 26,
     "metadata": {},
     "output_type": "execute_result"
    }
   ],
   "source": [
    "count_parameters(model)"
   ]
  },
  {
   "cell_type": "code",
   "execution_count": 27,
   "metadata": {
    "execution": {
     "iopub.execute_input": "2020-12-14T13:50:06.192442Z",
     "iopub.status.busy": "2020-12-14T13:50:06.191772Z",
     "iopub.status.idle": "2020-12-14T13:50:06.197322Z",
     "shell.execute_reply": "2020-12-14T13:50:06.197953Z"
    },
    "id": "Rw4-5YKP9lj6",
    "outputId": "eb65c2e2-a5a8-4a09-84ec-8d73233d11e6",
    "papermill": {
     "duration": 0.048521,
     "end_time": "2020-12-14T13:50:06.198121",
     "exception": false,
     "start_time": "2020-12-14T13:50:06.149600",
     "status": "completed"
    },
    "tags": []
   },
   "outputs": [
    {
     "data": {
      "text/plain": [
       "[<wandb.wandb_torch.TorchGraph at 0x7fded828ddd0>]"
      ]
     },
     "execution_count": 27,
     "metadata": {},
     "output_type": "execute_result"
    }
   ],
   "source": [
    "wandb.watch(model)"
   ]
  },
  {
   "cell_type": "code",
   "execution_count": 28,
   "metadata": {
    "execution": {
     "iopub.execute_input": "2020-12-14T13:50:06.281310Z",
     "iopub.status.busy": "2020-12-14T13:50:06.279315Z",
     "iopub.status.idle": "2020-12-14T13:50:06.282108Z",
     "shell.execute_reply": "2020-12-14T13:50:06.282702Z"
    },
    "id": "p3LU6Cv7cGwx",
    "papermill": {
     "duration": 0.04745,
     "end_time": "2020-12-14T13:50:06.282836",
     "exception": false,
     "start_time": "2020-12-14T13:50:06.235386",
     "status": "completed"
    },
    "tags": []
   },
   "outputs": [],
   "source": [
    "from torch.nn import init\n",
    "\n",
    "for m in model.parameters():\n",
    "    classname = m.__class__.__name__\n",
    "    if hasattr(m, 'weight') and (classname.find('Conv') != -1 or classname.find('Linear') != -1):\n",
    "        init.normal_(m.weight.data, 0.0, 0.02)\n",
    "        if hasattr(m, 'bias') and m.bias is not None:\n",
    "            init.constant_(m.bias.data, 0.0)"
   ]
  },
  {
   "cell_type": "code",
   "execution_count": 30,
   "metadata": {
    "execution": {
     "iopub.execute_input": "2020-12-14T13:50:06.521346Z",
     "iopub.status.busy": "2020-12-14T13:50:06.519545Z",
     "iopub.status.idle": "2020-12-14T13:50:06.522163Z",
     "shell.execute_reply": "2020-12-14T13:50:06.522769Z"
    },
    "id": "nu-XKPAYyRys",
    "papermill": {
     "duration": 0.045894,
     "end_time": "2020-12-14T13:50:06.522899",
     "exception": false,
     "start_time": "2020-12-14T13:50:06.477005",
     "status": "completed"
    },
    "tags": []
   },
   "outputs": [],
   "source": [
    "opt_D = torch.optim.Adam(model.netD.parameters(), lr=0.0002, betas=(0.5, 0.999))\n",
    "opt_G = torch.optim.Adam(model.netG.parameters(), lr=0.0002, betas=(0.5, 0.999))"
   ]
  },
  {
   "cell_type": "code",
   "execution_count": 31,
   "metadata": {
    "execution": {
     "iopub.execute_input": "2020-12-14T13:50:06.603843Z",
     "iopub.status.busy": "2020-12-14T13:50:06.602984Z",
     "iopub.status.idle": "2020-12-14T13:50:06.605992Z",
     "shell.execute_reply": "2020-12-14T13:50:06.605308Z"
    },
    "id": "KpMiOv4o4P-K",
    "papermill": {
     "duration": 0.042516,
     "end_time": "2020-12-14T13:50:06.606104",
     "exception": false,
     "start_time": "2020-12-14T13:50:06.563588",
     "status": "completed"
    },
    "tags": []
   },
   "outputs": [],
   "source": [
    "from tqdm import tqdm"
   ]
  },
  {
   "cell_type": "code",
   "execution_count": 33,
   "metadata": {
    "execution": {
     "iopub.execute_input": "2020-12-14T13:50:06.777891Z",
     "iopub.status.busy": "2020-12-14T13:50:06.776953Z",
     "iopub.status.idle": "2020-12-14T13:50:06.784116Z",
     "shell.execute_reply": "2020-12-14T13:50:06.784915Z"
    },
    "id": "amXid3iMyRyt",
    "papermill": {
     "duration": 0.057755,
     "end_time": "2020-12-14T13:50:06.785077",
     "exception": false,
     "start_time": "2020-12-14T13:50:06.727322",
     "status": "completed"
    },
    "tags": []
   },
   "outputs": [],
   "source": [
    "@torch.no_grad()\n",
    "def validate(model, loader, is_saving=False):\n",
    "    model.netD.eval()\n",
    "    total_loss_D, total_loss_G = 0, 0\n",
    "    total_ssim = 0\n",
    "    for i, batch in enumerate(loader):\n",
    "        real_x, real_y = batch['x'].to(device), batch['target'].to(device)\n",
    "\n",
    "        loss_D, loss_G, ssim = model.validation(real_x, real_y)\n",
    "\n",
    "        total_loss_D = total_loss_D + loss_D\n",
    "        total_loss_G = total_loss_G + loss_G\n",
    "        total_ssim   = total_ssim   + ssim\n",
    "        \n",
    "    if is_saving:\n",
    "        wandb.log({'examples':\n",
    "                  [wandb.Image(transforms.ToPILImage()(real_x[0]*0.5 + 0.5), caption='real_x'),\n",
    "                  wandb.Image(transforms.ToPILImage()(model.generate(real_x)[0]*0.5 + 0.5), caption='generated'),\n",
    "                  wandb.Image(transforms.ToPILImage()(real_y[0]*0.5 + 0.5), caption='real_y')\n",
    "                  ]})\n",
    "        \n",
    "    return total_loss_D / len(loader), total_loss_G / len(loader), total_ssim / len(loader)"
   ]
  },
  {
   "cell_type": "code",
   "execution_count": 34,
   "metadata": {
    "execution": {
     "iopub.execute_input": "2020-12-14T13:50:06.871029Z",
     "iopub.status.busy": "2020-12-14T13:50:06.870215Z",
     "iopub.status.idle": "2020-12-14T13:50:06.872452Z",
     "shell.execute_reply": "2020-12-14T13:50:06.871743Z"
    },
    "papermill": {
     "duration": 0.051486,
     "end_time": "2020-12-14T13:50:06.872617",
     "exception": false,
     "start_time": "2020-12-14T13:50:06.821131",
     "status": "completed"
    },
    "tags": []
   },
   "outputs": [],
   "source": [
    "@torch.no_grad()\n",
    "def test(model, loader):\n",
    "    model.netD.eval()\n",
    "    total_loss_D, total_loss_G = 0, 0\n",
    "    for i, batch in enumerate(loader):\n",
    "        real_x, real_y = batch['x'].to(device), batch['target'].to(device)\n",
    "\n",
    "        loss_D, loss_G, ssim = model.validation(real_x, real_y)\n",
    "\n",
    "        total_loss_D = total_loss_D + loss_D\n",
    "        total_loss_G = total_loss_G + loss_G\n",
    "        \n",
    "        if i % 2 == 0:\n",
    "            wandb.log({'examples':\n",
    "                  [wandb.Image(transforms.ToPILImage()(real_x[0]*0.5 + 0.5), caption='real_x'),\n",
    "                  wandb.Image(transforms.ToPILImage()(model.generate(real_x)[0]*0.5 + 0.5), caption='generated'),\n",
    "                  wandb.Image(transforms.ToPILImage()(real_y[0]*0.5 + 0.5), caption='real_y')\n",
    "                  ]})\n",
    "        \n",
    "        \n",
    "    return total_loss_D / len(loader), total_loss_G / len(loader)"
   ]
  },
  {
   "cell_type": "code",
   "execution_count": 35,
   "metadata": {
    "execution": {
     "iopub.execute_input": "2020-12-14T13:50:06.969141Z",
     "iopub.status.busy": "2020-12-14T13:50:06.967954Z",
     "iopub.status.idle": "2020-12-14T16:45:54.420209Z",
     "shell.execute_reply": "2020-12-14T16:45:54.418654Z"
    },
    "id": "gccd0bTayRys",
    "outputId": "239e163a-00ae-49c9-c341-256283201f91",
    "papermill": {
     "duration": 10547.504237,
     "end_time": "2020-12-14T16:45:54.420360",
     "exception": false,
     "start_time": "2020-12-14T13:50:06.916123",
     "status": "completed"
    },
    "scrolled": false,
    "tags": []
   },
   "outputs": [
    {
     "name": "stderr",
     "output_type": "stream",
     "text": [
      "100%|██████████| 250/250 [2:55:47<00:00, 42.19s/it]\n"
     ]
    }
   ],
   "source": [
    "### train loop\n",
    "for ep_num in tqdm(range(NUM_EPOCHS)):\n",
    "    model.train()\n",
    "    total_loss_D, total_loss_G = 0, 0\n",
    "    total_ssim = 0\n",
    "    for i, batch in enumerate(train_loader):\n",
    "        real_x, real_y = batch['x'].to(device), batch['target'].to(device)\n",
    "\n",
    "        loss_D, loss_G, ssim = model.my_backward(real_x, real_y, opt_D, opt_G)\n",
    "\n",
    "        total_loss_D = total_loss_D + loss_D\n",
    "        total_loss_G = total_loss_G + loss_G\n",
    "        total_ssim = total_ssim + ssim\n",
    "        \n",
    "        torch.nn.utils.clip_grad_norm_(model.parameters(), 15)\n",
    "\n",
    "\n",
    "    if ep_num % 20 == 0:\n",
    "        val_loss_D, val_loss_G, val_ssim = validate(model, val_loader, is_saving=True)\n",
    "    else:\n",
    "        val_loss_D, val_loss_G, val_ssim = validate(model, val_loader)  \n",
    "        \n",
    "    if ep_num >= 150 and ep_num % 25 == 0:\n",
    "        a, b = test(model, test_loader)        \n",
    "        \n",
    "    wandb.log({'train_D':total_loss_D/len(train_loader),\n",
    "               'train_G_l1+cgan':total_loss_G/len(train_loader),\n",
    "               'train_ssim':total_ssim/len(train_loader),\n",
    "               'val_D':val_loss_D,\n",
    "               'val_G_l1+cgan':val_loss_G,\n",
    "               'val_ssim':val_ssim})    "
   ]
  },
  {
   "cell_type": "code",
   "execution_count": 37,
   "metadata": {
    "execution": {
     "iopub.execute_input": "2020-12-14T16:45:54.890963Z",
     "iopub.status.busy": "2020-12-14T16:45:54.890070Z",
     "iopub.status.idle": "2020-12-14T16:45:55.706699Z",
     "shell.execute_reply": "2020-12-14T16:45:55.706156Z"
    },
    "papermill": {
     "duration": 0.927473,
     "end_time": "2020-12-14T16:45:55.706834",
     "exception": false,
     "start_time": "2020-12-14T16:45:54.779361",
     "status": "completed"
    },
    "tags": []
   },
   "outputs": [],
   "source": [
    "torch.save({\n",
    "    'model_state_dict': model.state_dict(),\n",
    "}, 'checkpoint_end_augs_200')"
   ]
  },
  {
   "cell_type": "code",
   "execution_count": null,
   "metadata": {
    "id": "pVJEpx-nlOai",
    "papermill": {
     "duration": 0.146161,
     "end_time": "2020-12-14T16:45:55.963894",
     "exception": false,
     "start_time": "2020-12-14T16:45:55.817733",
     "status": "completed"
    },
    "tags": []
   },
   "outputs": [],
   "source": []
  },
  {
   "cell_type": "code",
   "execution_count": null,
   "metadata": {
    "id": "i4ZjUPgXpeVg",
    "papermill": {
     "duration": 0.104984,
     "end_time": "2020-12-14T16:45:56.176109",
     "exception": false,
     "start_time": "2020-12-14T16:45:56.071125",
     "status": "completed"
    },
    "tags": []
   },
   "outputs": [],
   "source": []
  },
  {
   "cell_type": "code",
   "execution_count": null,
   "metadata": {
    "id": "4HbcSYOKpeYZ",
    "papermill": {
     "duration": 0.106306,
     "end_time": "2020-12-14T16:45:56.387456",
     "exception": false,
     "start_time": "2020-12-14T16:45:56.281150",
     "status": "completed"
    },
    "tags": []
   },
   "outputs": [],
   "source": []
  },
  {
   "cell_type": "code",
   "execution_count": null,
   "metadata": {
    "id": "3ef0pwTiyRyt",
    "papermill": {
     "duration": 0.104956,
     "end_time": "2020-12-14T16:45:56.597894",
     "exception": false,
     "start_time": "2020-12-14T16:45:56.492938",
     "status": "completed"
    },
    "tags": []
   },
   "outputs": [],
   "source": []
  },
  {
   "cell_type": "code",
   "execution_count": null,
   "metadata": {
    "id": "cJpcXhd49lj7",
    "papermill": {
     "duration": 0.107784,
     "end_time": "2020-12-14T16:45:56.813110",
     "exception": false,
     "start_time": "2020-12-14T16:45:56.705326",
     "status": "completed"
    },
    "tags": []
   },
   "outputs": [],
   "source": []
  },
  {
   "cell_type": "code",
   "execution_count": null,
   "metadata": {
    "id": "JxDb2f3y9lj8",
    "papermill": {
     "duration": 0.105304,
     "end_time": "2020-12-14T16:45:57.026566",
     "exception": false,
     "start_time": "2020-12-14T16:45:56.921262",
     "status": "completed"
    },
    "tags": []
   },
   "outputs": [],
   "source": []
  },
  {
   "cell_type": "code",
   "execution_count": 38,
   "metadata": {
    "execution": {
     "iopub.execute_input": "2020-12-14T16:45:57.246685Z",
     "iopub.status.busy": "2020-12-14T16:45:57.244789Z",
     "iopub.status.idle": "2020-12-14T16:45:57.250260Z",
     "shell.execute_reply": "2020-12-14T16:45:57.250917Z"
    },
    "id": "BeFMOHdd9lj1",
    "papermill": {
     "duration": 0.119313,
     "end_time": "2020-12-14T16:45:57.251057",
     "exception": false,
     "start_time": "2020-12-14T16:45:57.131744",
     "status": "completed"
    },
    "tags": []
   },
   "outputs": [
    {
     "data": {
      "text/plain": [
       "'----------------- Options ---------------\\n               batch_size: 1                             \\n                    beta1: 0.5                           \\n          checkpoints_dir: ./checkpoints                 \\n           continue_train: False                         \\n                crop_size: 256                           \\n                 dataroot: ./datasets/facades            \\t[default: None]\\n             dataset_mode: aligned                       \\n                direction: AtoB                          \\n              display_env: main                          \\n             display_freq: 400                           \\n               display_id: 1                             \\n            display_ncols: 4                             \\n             display_port: 8097                          \\n           display_server: http://localhost              \\n          display_winsize: 256                           \\n                    epoch: latest                        \\n              epoch_count: 1                             \\n                 gan_mode: vanilla                       \\n                  gpu_ids: 0                             \\n                init_gain: 0.02                          \\n                init_type: normal                        \\n                 input_nc: 3                             \\n                  isTrain: True                          \\t[default: None]\\n                lambda_L1: 100.0                         \\n                load_iter: 0                             \\t[default: 0]\\n                load_size: 286                           \\n                       lr: 0.0002                        \\n           lr_decay_iters: 50                            \\n                lr_policy: linear                        \\n         max_dataset_size: inf                           \\n                    model: pix2pix                       \\t[default: cycle_gan]\\n                 n_epochs: 100                           \\n           n_epochs_decay: 100                           \\n               n_layers_D: 3                             \\n                     name: facades_label2photo           \\t[default: experiment_name]\\n                      ndf: 64                            \\n                     netD: basic                         \\n                     netG: unet_256                      \\n                      ngf: 64                            \\n               no_dropout: False                         \\n                  no_flip: False                         \\n                  no_html: False                         \\n                     norm: batch                         \\n              num_threads: 4                             \\n                output_nc: 3                             \\n                    phase: train                         \\n                pool_size: 0                             \\n               preprocess: resize_and_crop               \\n               print_freq: 100                           \\n             save_by_iter: False                         \\n          save_epoch_freq: 5                             \\n         save_latest_freq: 5000                          \\n           serial_batches: False                         \\n                   suffix:                               \\n         update_html_freq: 1000                          \\n                  verbose: False                         \\n----------------- End -------------------'"
      ]
     },
     "execution_count": 38,
     "metadata": {},
     "output_type": "execute_result"
    }
   ],
   "source": [
    "'''----------------- Options ---------------\n",
    "               batch_size: 1                             \n",
    "                    beta1: 0.5                           \n",
    "          checkpoints_dir: ./checkpoints                 \n",
    "           continue_train: False                         \n",
    "                crop_size: 256                           \n",
    "                 dataroot: ./datasets/facades            \t[default: None]\n",
    "             dataset_mode: aligned                       \n",
    "                direction: AtoB                          \n",
    "              display_env: main                          \n",
    "             display_freq: 400                           \n",
    "               display_id: 1                             \n",
    "            display_ncols: 4                             \n",
    "             display_port: 8097                          \n",
    "           display_server: http://localhost              \n",
    "          display_winsize: 256                           \n",
    "                    epoch: latest                        \n",
    "              epoch_count: 1                             \n",
    "                 gan_mode: vanilla                       \n",
    "                  gpu_ids: 0                             \n",
    "                init_gain: 0.02                          \n",
    "                init_type: normal                        \n",
    "                 input_nc: 3                             \n",
    "                  isTrain: True                          \t[default: None]\n",
    "                lambda_L1: 100.0                         \n",
    "                load_iter: 0                             \t[default: 0]\n",
    "                load_size: 286                           \n",
    "                       lr: 0.0002                        \n",
    "           lr_decay_iters: 50                            \n",
    "                lr_policy: linear                        \n",
    "         max_dataset_size: inf                           \n",
    "                    model: pix2pix                       \t[default: cycle_gan]\n",
    "                 n_epochs: 100                           \n",
    "           n_epochs_decay: 100                           \n",
    "               n_layers_D: 3                             \n",
    "                     name: facades_label2photo           \t[default: experiment_name]\n",
    "                      ndf: 64                            \n",
    "                     netD: basic                         \n",
    "                     netG: unet_256                      \n",
    "                      ngf: 64                            \n",
    "               no_dropout: False                         \n",
    "                  no_flip: False                         \n",
    "                  no_html: False                         \n",
    "                     norm: batch                         \n",
    "              num_threads: 4                             \n",
    "                output_nc: 3                             \n",
    "                    phase: train                         \n",
    "                pool_size: 0                             \n",
    "               preprocess: resize_and_crop               \n",
    "               print_freq: 100                           \n",
    "             save_by_iter: False                         \n",
    "          save_epoch_freq: 5                             \n",
    "         save_latest_freq: 5000                          \n",
    "           serial_batches: False                         \n",
    "                   suffix:                               \n",
    "         update_html_freq: 1000                          \n",
    "                  verbose: False                         \n",
    "----------------- End -------------------'''"
   ]
  },
  {
   "cell_type": "code",
   "execution_count": 39,
   "metadata": {
    "execution": {
     "iopub.execute_input": "2020-12-14T16:45:57.479619Z",
     "iopub.status.busy": "2020-12-14T16:45:57.478755Z",
     "iopub.status.idle": "2020-12-14T16:45:57.487665Z",
     "shell.execute_reply": "2020-12-14T16:45:57.488285Z"
    },
    "id": "luH4F9YP9lj3",
    "papermill": {
     "duration": 0.12825,
     "end_time": "2020-12-14T16:45:57.488468",
     "exception": false,
     "start_time": "2020-12-14T16:45:57.360218",
     "status": "completed"
    },
    "tags": []
   },
   "outputs": [
    {
     "data": {
      "text/plain": [
       "\"dataset [AlignedDataset] was created\\nThe number of training images = 400\\ninitialize network with normal\\ninitialize network with normal\\nmodel [Pix2PixModel] was created\\n---------- Networks initialized -------------\\n[Network G] Total number of parameters : 54.414 M\\n[Network D] Total number of parameters : 2.769 M\\n-----------------------------------------------\\nDataParallel(\\n  (module): UnetGenerator(\\n    (model): UnetSkipConnectionBlock(\\n      (model): Sequential(\\n        (0): Conv2d(3, 64, kernel_size=(4, 4), stride=(2, 2), padding=(1, 1), bias=False)\\n        (1): UnetSkipConnectionBlock(\\n          (model): Sequential(\\n            (0): LeakyReLU(negative_slope=0.2, inplace=True)\\n            (1): Conv2d(64, 128, kernel_size=(4, 4), stride=(2, 2), padding=(1, 1), bias=False)\\n            (2): BatchNorm2d(128, eps=1e-05, momentum=0.1, affine=True, track_running_stats=True)\\n            (3): UnetSkipConnectionBlock(\\n              (model): Sequential(\\n                (0): LeakyReLU(negative_slope=0.2, inplace=True)\\n                (1): Conv2d(128, 256, kernel_size=(4, 4), stride=(2, 2), padding=(1, 1), bias=False)\\n                (2): BatchNorm2d(256, eps=1e-05, momentum=0.1, affine=True, track_running_stats=True)\\n                (3): UnetSkipConnectionBlock(\\n                  (model): Sequential(\\n                    (0): LeakyReLU(negative_slope=0.2, inplace=True)\\n                    (1): Conv2d(256, 512, kernel_size=(4, 4), stride=(2, 2), padding=(1, 1), bias=False)\\n                    (2): BatchNorm2d(512, eps=1e-05, momentum=0.1, affine=True, track_running_stats=True)\\n                    (3): UnetSkipConnectionBlock(\\n                      (model): Sequential(\\n                        (0): LeakyReLU(negative_slope=0.2, inplace=True)\\n                        (1): Conv2d(512, 512, kernel_size=(4, 4), stride=(2, 2), padding=(1, 1), bias=False)\\n                        (2): BatchNorm2d(512, eps=1e-05, momentum=0.1, affine=True, track_running_stats=True)\\n                        (3): UnetSkipConnectionBlock(\\n                          (model): Sequential(\\n                            (0): LeakyReLU(negative_slope=0.2, inplace=True)\\n                            (1): Conv2d(512, 512, kernel_size=(4, 4), stride=(2, 2), padding=(1, 1), bias=False)\\n                            (2): BatchNorm2d(512, eps=1e-05, momentum=0.1, affine=True, track_running_stats=True)\\n                            (3): UnetSkipConnectionBlock(\\n                              (model): Sequential(\\n                                (0): LeakyReLU(negative_slope=0.2, inplace=True)\\n                                (1): Conv2d(512, 512, kernel_size=(4, 4), stride=(2, 2), padding=(1, 1), bias=False)\\n                                (2): BatchNorm2d(512, eps=1e-05, momentum=0.1, affine=True, track_running_stats=True)\\n                                (3): UnetSkipConnectionBlock(\\n                                  (model): Sequential(\\n                                    (0): LeakyReLU(negative_slope=0.2, inplace=True)\\n                                    (1): Conv2d(512, 512, kernel_size=(4, 4), stride=(2, 2), padding=(1, 1), bias=False)\\n                                    (2): ReLU(inplace=True)\\n                                    (3): ConvTranspose2d(512, 512, kernel_size=(4, 4), stride=(2, 2), padding=(1, 1), bias=False)\\n                                    (4): BatchNorm2d(512, eps=1e-05, momentum=0.1, affine=True, track_running_stats=True)\\n                                  )\\n                                )\\n                                (4): ReLU(inplace=True)\\n                                (5): ConvTranspose2d(1024, 512, kernel_size=(4, 4), stride=(2, 2), padding=(1, 1), bias=False)\\n                                (6): BatchNorm2d(512, eps=1e-05, momentum=0.1, affine=True, track_running_stats=True)\\n                                (7): Dropout(p=0.5, inplace=False)\\n                              )\\n                            )\\n                            (4): ReLU(inplace=True)\\n                            (5):.log({'e2s-train_1step':loss.item()})\\n        #torch ConvTranspose2d(1024, 512, kernel_size=(4, 4), stride=(2, 2), padding=(1, 1), bias=False)\\n                            (6): BatchNorm2d(512, eps=1e-05, momentum=0.1, affine=True, track_running_stats=True)\\n                            (7): Dropout(p=0.5, inplace=False)\\n                          )\\n                        )\\n                        (4): ReLU(inplace=True)\\n                        (5): ConvTranspose2d(1024, 512, kernel_size=(4, 4), stride=(2, 2), padding=(1, 1), bias=False)\\n                        (6): BatchNorm2d(512, eps=1e-05, momentum=0.1, affine=True, track_running_stats=True)\\n                        (7): Dropout(p=0.5, inplace=False)\\n                      )\\n                    )\\n                    (4): ReLU(inplace=True)\\n                    (5): ConvTranspose2d(1024, 256, kernel_size=(4, 4), stride=(2, 2), padding=(1, 1), bias=False)\\n                    (6): BatchNorm2d(256, eps=1e-05, momentum=0.1, affine=True, track_running_stats=True)\\n                  )\\n                )\\n                (4): ReLU(inplace=True)\\n                (5): ConvTranspose2d(512, 128, kernel_size=(4, 4), stride=(2, 2), padding=(1, 1), bias=False)\\n                (6): BatchNorm2d(128, eps=1e-05, momentum=0.1, affine=True, track_running_stats=True)\\n              )\\n            )\\n            (4): ReLU(inplace=True)\\n            (5): ConvTranspose2d(256, 64, kernel_size=(4, 4), stride=(2, 2), padding=(1, 1), bias=False)\\n            (6): BatchNorm2d(64, eps=1e-05, momentum=0.1, affine=True, track_running_stats=True)\\n          )\\n        )\\n        (2): ReLU(inplace=True)\\n        (3): ConvTranspose2d(128, 3, kernel_size=(4, 4), stride=(2, 2), padding=(1, 1))\\n        (4): Tanh()\\n      )\\n    )\\n  )\\n)\\nDataParallel(\\n  (module): NLayerDiscriminator(\\n    (model): Sequential(\\n      (0): Conv2d(6, 64, kernel_size=(4, 4), stride=(2, 2), padding=(1, 1))\\n      (1): LeakyReLU(negative_slope=0.2, inplace=True)\\n      (2): Conv2d(64, 128, kernel_size=(4, 4), stride=(2, 2), padding=(1, 1), bias=False)\\n      (3): BatchNorm2d(128, eps=1e-05, momentum=0.1, affine=True, track_running_stats=True)\\n      (4): LeakyReLU(negative_slope=0.2, inplace=True)\\n      (5): Conv2d(128, 256, kernel_size=(4, 4), stride=(2, 2), padding=(1, 1), bias=False)\\n      (6): BatchNorm2d(256, eps=1e-05, momentum=0.1, affine=True, track_running_stats=True)\\n      (7): LeakyReLU(negative_slope=0.2, inplace=True)\\n      (8): Conv2d(256, 512, kernel_size=(4, 4), stride=(1, 1), padding=(1, 1), bias=False)\\n      (9): BatchNorm2d(512, eps=1e-05, momentum=0.1, affine=True, track_running_stats=True)\\n      (10): LeakyReLU(negative_slope=0.2, inplace=True)\\n      (11): Conv2d(512, 1, kernel_size=(4, 4), stride=(1, 1), padding=(1, 1))\\n    )\\n  )\\n)\""
      ]
     },
     "execution_count": 39,
     "metadata": {},
     "output_type": "execute_result"
    }
   ],
   "source": [
    "'''dataset [AlignedDataset] was created\n",
    "The number of training images = 400\n",
    "initialize network with normal\n",
    "initialize network with normal\n",
    "model [Pix2PixModel] was created\n",
    "---------- Networks initialized -------------\n",
    "[Network G] Total number of parameters : 54.414 M\n",
    "[Network D] Total number of parameters : 2.769 M\n",
    "-----------------------------------------------\n",
    "DataParallel(\n",
    "  (module): UnetGenerator(\n",
    "    (model): UnetSkipConnectionBlock(\n",
    "      (model): Sequential(\n",
    "        (0): Conv2d(3, 64, kernel_size=(4, 4), stride=(2, 2), padding=(1, 1), bias=False)\n",
    "        (1): UnetSkipConnectionBlock(\n",
    "          (model): Sequential(\n",
    "            (0): LeakyReLU(negative_slope=0.2, inplace=True)\n",
    "            (1): Conv2d(64, 128, kernel_size=(4, 4), stride=(2, 2), padding=(1, 1), bias=False)\n",
    "            (2): BatchNorm2d(128, eps=1e-05, momentum=0.1, affine=True, track_running_stats=True)\n",
    "            (3): UnetSkipConnectionBlock(\n",
    "              (model): Sequential(\n",
    "                (0): LeakyReLU(negative_slope=0.2, inplace=True)\n",
    "                (1): Conv2d(128, 256, kernel_size=(4, 4), stride=(2, 2), padding=(1, 1), bias=False)\n",
    "                (2): BatchNorm2d(256, eps=1e-05, momentum=0.1, affine=True, track_running_stats=True)\n",
    "                (3): UnetSkipConnectionBlock(\n",
    "                  (model): Sequential(\n",
    "                    (0): LeakyReLU(negative_slope=0.2, inplace=True)\n",
    "                    (1): Conv2d(256, 512, kernel_size=(4, 4), stride=(2, 2), padding=(1, 1), bias=False)\n",
    "                    (2): BatchNorm2d(512, eps=1e-05, momentum=0.1, affine=True, track_running_stats=True)\n",
    "                    (3): UnetSkipConnectionBlock(\n",
    "                      (model): Sequential(\n",
    "                        (0): LeakyReLU(negative_slope=0.2, inplace=True)\n",
    "                        (1): Conv2d(512, 512, kernel_size=(4, 4), stride=(2, 2), padding=(1, 1), bias=False)\n",
    "                        (2): BatchNorm2d(512, eps=1e-05, momentum=0.1, affine=True, track_running_stats=True)\n",
    "                        (3): UnetSkipConnectionBlock(\n",
    "                          (model): Sequential(\n",
    "                            (0): LeakyReLU(negative_slope=0.2, inplace=True)\n",
    "                            (1): Conv2d(512, 512, kernel_size=(4, 4), stride=(2, 2), padding=(1, 1), bias=False)\n",
    "                            (2): BatchNorm2d(512, eps=1e-05, momentum=0.1, affine=True, track_running_stats=True)\n",
    "                            (3): UnetSkipConnectionBlock(\n",
    "                              (model): Sequential(\n",
    "                                (0): LeakyReLU(negative_slope=0.2, inplace=True)\n",
    "                                (1): Conv2d(512, 512, kernel_size=(4, 4), stride=(2, 2), padding=(1, 1), bias=False)\n",
    "                                (2): BatchNorm2d(512, eps=1e-05, momentum=0.1, affine=True, track_running_stats=True)\n",
    "                                (3): UnetSkipConnectionBlock(\n",
    "                                  (model): Sequential(\n",
    "                                    (0): LeakyReLU(negative_slope=0.2, inplace=True)\n",
    "                                    (1): Conv2d(512, 512, kernel_size=(4, 4), stride=(2, 2), padding=(1, 1), bias=False)\n",
    "                                    (2): ReLU(inplace=True)\n",
    "                                    (3): ConvTranspose2d(512, 512, kernel_size=(4, 4), stride=(2, 2), padding=(1, 1), bias=False)\n",
    "                                    (4): BatchNorm2d(512, eps=1e-05, momentum=0.1, affine=True, track_running_stats=True)\n",
    "                                  )\n",
    "                                )\n",
    "                                (4): ReLU(inplace=True)\n",
    "                                (5): ConvTranspose2d(1024, 512, kernel_size=(4, 4), stride=(2, 2), padding=(1, 1), bias=False)\n",
    "                                (6): BatchNorm2d(512, eps=1e-05, momentum=0.1, affine=True, track_running_stats=True)\n",
    "                                (7): Dropout(p=0.5, inplace=False)\n",
    "                              )\n",
    "                            )\n",
    "                            (4): ReLU(inplace=True)\n",
    "                            (5):.log({'e2s-train_1step':loss.item()})\n",
    "        #torch ConvTranspose2d(1024, 512, kernel_size=(4, 4), stride=(2, 2), padding=(1, 1), bias=False)\n",
    "                            (6): BatchNorm2d(512, eps=1e-05, momentum=0.1, affine=True, track_running_stats=True)\n",
    "                            (7): Dropout(p=0.5, inplace=False)\n",
    "                          )\n",
    "                        )\n",
    "                        (4): ReLU(inplace=True)\n",
    "                        (5): ConvTranspose2d(1024, 512, kernel_size=(4, 4), stride=(2, 2), padding=(1, 1), bias=False)\n",
    "                        (6): BatchNorm2d(512, eps=1e-05, momentum=0.1, affine=True, track_running_stats=True)\n",
    "                        (7): Dropout(p=0.5, inplace=False)\n",
    "                      )\n",
    "                    )\n",
    "                    (4): ReLU(inplace=True)\n",
    "                    (5): ConvTranspose2d(1024, 256, kernel_size=(4, 4), stride=(2, 2), padding=(1, 1), bias=False)\n",
    "                    (6): BatchNorm2d(256, eps=1e-05, momentum=0.1, affine=True, track_running_stats=True)\n",
    "                  )\n",
    "                )\n",
    "                (4): ReLU(inplace=True)\n",
    "                (5): ConvTranspose2d(512, 128, kernel_size=(4, 4), stride=(2, 2), padding=(1, 1), bias=False)\n",
    "                (6): BatchNorm2d(128, eps=1e-05, momentum=0.1, affine=True, track_running_stats=True)\n",
    "              )\n",
    "            )\n",
    "            (4): ReLU(inplace=True)\n",
    "            (5): ConvTranspose2d(256, 64, kernel_size=(4, 4), stride=(2, 2), padding=(1, 1), bias=False)\n",
    "            (6): BatchNorm2d(64, eps=1e-05, momentum=0.1, affine=True, track_running_stats=True)\n",
    "          )\n",
    "        )\n",
    "        (2): ReLU(inplace=True)\n",
    "        (3): ConvTranspose2d(128, 3, kernel_size=(4, 4), stride=(2, 2), padding=(1, 1))\n",
    "        (4): Tanh()\n",
    "      )\n",
    "    )\n",
    "  )\n",
    ")\n",
    "DataParallel(\n",
    "  (module): NLayerDiscriminator(\n",
    "    (model): Sequential(\n",
    "      (0): Conv2d(6, 64, kernel_size=(4, 4), stride=(2, 2), padding=(1, 1))\n",
    "      (1): LeakyReLU(negative_slope=0.2, inplace=True)\n",
    "      (2): Conv2d(64, 128, kernel_size=(4, 4), stride=(2, 2), padding=(1, 1), bias=False)\n",
    "      (3): BatchNorm2d(128, eps=1e-05, momentum=0.1, affine=True, track_running_stats=True)\n",
    "      (4): LeakyReLU(negative_slope=0.2, inplace=True)\n",
    "      (5): Conv2d(128, 256, kernel_size=(4, 4), stride=(2, 2), padding=(1, 1), bias=False)\n",
    "      (6): BatchNorm2d(256, eps=1e-05, momentum=0.1, affine=True, track_running_stats=True)\n",
    "      (7): LeakyReLU(negative_slope=0.2, inplace=True)\n",
    "      (8): Conv2d(256, 512, kernel_size=(4, 4), stride=(1, 1), padding=(1, 1), bias=False)\n",
    "      (9): BatchNorm2d(512, eps=1e-05, momentum=0.1, affine=True, track_running_stats=True)\n",
    "      (10): LeakyReLU(negative_slope=0.2, inplace=True)\n",
    "      (11): Conv2d(512, 1, kernel_size=(4, 4), stride=(1, 1), padding=(1, 1))\n",
    "    )\n",
    "  )\n",
    ")'''"
   ]
  },
  {
   "cell_type": "code",
   "execution_count": null,
   "metadata": {
    "id": "ZeFROTU_9lj8",
    "papermill": {
     "duration": 0.106371,
     "end_time": "2020-12-14T16:45:57.702486",
     "exception": false,
     "start_time": "2020-12-14T16:45:57.596115",
     "status": "completed"
    },
    "tags": []
   },
   "outputs": [],
   "source": []
  },
  {
   "cell_type": "code",
   "execution_count": 40,
   "metadata": {
    "execution": {
     "iopub.execute_input": "2020-12-14T16:45:57.924002Z",
     "iopub.status.busy": "2020-12-14T16:45:57.922747Z",
     "iopub.status.idle": "2020-12-14T16:45:57.926611Z",
     "shell.execute_reply": "2020-12-14T16:45:57.925962Z"
    },
    "id": "zjPkVhZr9lj8",
    "papermill": {
     "duration": 0.115828,
     "end_time": "2020-12-14T16:45:57.926726",
     "exception": false,
     "start_time": "2020-12-14T16:45:57.810898",
     "status": "completed"
    },
    "tags": []
   },
   "outputs": [],
   "source": [
    "### НА ИНФЕРЕНСЕ ГЕНЕРАТОР В TRAIN МОДЕ, А ДИСК В EVAL"
   ]
  },
  {
   "cell_type": "code",
   "execution_count": null,
   "metadata": {
    "id": "A3sfyKTy9lj8",
    "papermill": {
     "duration": 0.106104,
     "end_time": "2020-12-14T16:45:58.142034",
     "exception": false,
     "start_time": "2020-12-14T16:45:58.035930",
     "status": "completed"
    },
    "tags": []
   },
   "outputs": [],
   "source": []
  }
 ],
 "metadata": {
  "kernelspec": {
   "display_name": "Python 3",
   "language": "python",
   "name": "python3"
  },
  "language_info": {
   "codemirror_mode": {
    "name": "ipython",
    "version": 3
   },
   "file_extension": ".py",
   "mimetype": "text/x-python",
   "name": "python",
   "nbconvert_exporter": "python",
   "pygments_lexer": "ipython3",
   "version": "3.6.9"
  },
  "papermill": {
   "duration": 10578.746581,
   "end_time": "2020-12-14T16:45:58.758783",
   "environment_variables": {},
   "exception": null,
   "input_path": "__notebook__.ipynb",
   "output_path": "__notebook__.ipynb",
   "parameters": {},
   "start_time": "2020-12-14T13:49:40.012202",
   "version": "2.1.0"
  },
  "widgets": {
   "application/vnd.jupyter.widget-state+json": {
    "state": {
     "01f0192620ca4e758c265eefb129a5ad": {
      "model_module": "@jupyter-widgets/controls",
      "model_module_version": "1.5.0",
      "model_name": "FloatProgressModel",
      "state": {
       "_dom_classes": [],
       "_model_module": "@jupyter-widgets/controls",
       "_model_module_version": "1.5.0",
       "_model_name": "FloatProgressModel",
       "_view_count": null,
       "_view_module": "@jupyter-widgets/controls",
       "_view_module_version": "1.5.0",
       "_view_name": "ProgressView",
       "bar_style": "",
       "description": "",
       "description_tooltip": null,
       "layout": "IPY_MODEL_ce93b340878e424bbebea60cb75b4b7a",
       "max": 1,
       "min": 0,
       "orientation": "horizontal",
       "style": "IPY_MODEL_77a310513f6e40b6aaed1549028b0cd7",
       "value": 0
      }
     },
     "49010a28586541b5ba8f662e1ad51e9f": {
      "model_module": "@jupyter-widgets/controls",
      "model_module_version": "1.5.0",
      "model_name": "DescriptionStyleModel",
      "state": {
       "_model_module": "@jupyter-widgets/controls",
       "_model_module_version": "1.5.0",
       "_model_name": "DescriptionStyleModel",
       "_view_count": null,
       "_view_module": "@jupyter-widgets/base",
       "_view_module_version": "1.2.0",
       "_view_name": "StyleView",
       "description_width": ""
      }
     },
     "62a35c1ce8144a97843795dec95e7674": {
      "model_module": "@jupyter-widgets/base",
      "model_module_version": "1.2.0",
      "model_name": "LayoutModel",
      "state": {
       "_model_module": "@jupyter-widgets/base",
       "_model_module_version": "1.2.0",
       "_model_name": "LayoutModel",
       "_view_count": null,
       "_view_module": "@jupyter-widgets/base",
       "_view_module_version": "1.2.0",
       "_view_name": "LayoutView",
       "align_content": null,
       "align_items": null,
       "align_self": null,
       "border": null,
       "bottom": null,
       "display": null,
       "flex": null,
       "flex_flow": null,
       "grid_area": null,
       "grid_auto_columns": null,
       "grid_auto_flow": null,
       "grid_auto_rows": null,
       "grid_column": null,
       "grid_gap": null,
       "grid_row": null,
       "grid_template_areas": null,
       "grid_template_columns": null,
       "grid_template_rows": null,
       "height": null,
       "justify_content": null,
       "justify_items": null,
       "left": null,
       "margin": null,
       "max_height": null,
       "max_width": null,
       "min_height": null,
       "min_width": null,
       "object_fit": null,
       "object_position": null,
       "order": null,
       "overflow": null,
       "overflow_x": null,
       "overflow_y": null,
       "padding": null,
       "right": null,
       "top": null,
       "visibility": null,
       "width": null
      }
     },
     "77a310513f6e40b6aaed1549028b0cd7": {
      "model_module": "@jupyter-widgets/controls",
      "model_module_version": "1.5.0",
      "model_name": "ProgressStyleModel",
      "state": {
       "_model_module": "@jupyter-widgets/controls",
       "_model_module_version": "1.5.0",
       "_model_name": "ProgressStyleModel",
       "_view_count": null,
       "_view_module": "@jupyter-widgets/base",
       "_view_module_version": "1.2.0",
       "_view_name": "StyleView",
       "bar_color": null,
       "description_width": ""
      }
     },
     "8f2f432f88774715be9eb54e2380859c": {
      "model_module": "@jupyter-widgets/controls",
      "model_module_version": "1.5.0",
      "model_name": "LabelModel",
      "state": {
       "_dom_classes": [],
       "_model_module": "@jupyter-widgets/controls",
       "_model_module_version": "1.5.0",
       "_model_name": "LabelModel",
       "_view_count": null,
       "_view_module": "@jupyter-widgets/controls",
       "_view_module_version": "1.5.0",
       "_view_name": "LabelView",
       "description": "",
       "description_tooltip": null,
       "layout": "IPY_MODEL_927d9795a19745488020c62ae980beaf",
       "placeholder": "​",
       "style": "IPY_MODEL_49010a28586541b5ba8f662e1ad51e9f",
       "value": ""
      }
     },
     "927d9795a19745488020c62ae980beaf": {
      "model_module": "@jupyter-widgets/base",
      "model_module_version": "1.2.0",
      "model_name": "LayoutModel",
      "state": {
       "_model_module": "@jupyter-widgets/base",
       "_model_module_version": "1.2.0",
       "_model_name": "LayoutModel",
       "_view_count": null,
       "_view_module": "@jupyter-widgets/base",
       "_view_module_version": "1.2.0",
       "_view_name": "LayoutView",
       "align_content": null,
       "align_items": null,
       "align_self": null,
       "border": null,
       "bottom": null,
       "display": null,
       "flex": null,
       "flex_flow": null,
       "grid_area": null,
       "grid_auto_columns": null,
       "grid_auto_flow": null,
       "grid_auto_rows": null,
       "grid_column": null,
       "grid_gap": null,
       "grid_row": null,
       "grid_template_areas": null,
       "grid_template_columns": null,
       "grid_template_rows": null,
       "height": null,
       "justify_content": null,
       "justify_items": null,
       "left": null,
       "margin": null,
       "max_height": null,
       "max_width": null,
       "min_height": null,
       "min_width": null,
       "object_fit": null,
       "object_position": null,
       "order": null,
       "overflow": null,
       "overflow_x": null,
       "overflow_y": null,
       "padding": null,
       "right": null,
       "top": null,
       "visibility": null,
       "width": null
      }
     },
     "a1cceeebb84147d1bc5e061a82226b07": {
      "model_module": "@jupyter-widgets/controls",
      "model_module_version": "1.5.0",
      "model_name": "VBoxModel",
      "state": {
       "_dom_classes": [],
       "_model_module": "@jupyter-widgets/controls",
       "_model_module_version": "1.5.0",
       "_model_name": "VBoxModel",
       "_view_count": null,
       "_view_module": "@jupyter-widgets/controls",
       "_view_module_version": "1.5.0",
       "_view_name": "VBoxView",
       "box_style": "",
       "children": [
        "IPY_MODEL_8f2f432f88774715be9eb54e2380859c",
        "IPY_MODEL_01f0192620ca4e758c265eefb129a5ad"
       ],
       "layout": "IPY_MODEL_62a35c1ce8144a97843795dec95e7674"
      }
     },
     "ce93b340878e424bbebea60cb75b4b7a": {
      "model_module": "@jupyter-widgets/base",
      "model_module_version": "1.2.0",
      "model_name": "LayoutModel",
      "state": {
       "_model_module": "@jupyter-widgets/base",
       "_model_module_version": "1.2.0",
       "_model_name": "LayoutModel",
       "_view_count": null,
       "_view_module": "@jupyter-widgets/base",
       "_view_module_version": "1.2.0",
       "_view_name": "LayoutView",
       "align_content": null,
       "align_items": null,
       "align_self": null,
       "border": null,
       "bottom": null,
       "display": null,
       "flex": null,
       "flex_flow": null,
       "grid_area": null,
       "grid_auto_columns": null,
       "grid_auto_flow": null,
       "grid_auto_rows": null,
       "grid_column": null,
       "grid_gap": null,
       "grid_row": null,
       "grid_template_areas": null,
       "grid_template_columns": null,
       "grid_template_rows": null,
       "height": null,
       "justify_content": null,
       "justify_items": null,
       "left": null,
       "margin": null,
       "max_height": null,
       "max_width": null,
       "min_height": null,
       "min_width": null,
       "object_fit": null,
       "object_position": null,
       "order": null,
       "overflow": null,
       "overflow_x": null,
       "overflow_y": null,
       "padding": null,
       "right": null,
       "top": null,
       "visibility": null,
       "width": null
      }
     }
    },
    "version_major": 2,
    "version_minor": 0
   }
  }
 },
 "nbformat": 4,
 "nbformat_minor": 4
}
